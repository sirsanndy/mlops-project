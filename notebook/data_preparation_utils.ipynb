{
 "cells": [
  {
   "cell_type": "code",
   "execution_count": 7,
   "metadata": {},
   "outputs": [
    {
     "ename": "",
     "evalue": "",
     "output_type": "error",
     "traceback": [
      "\u001b[1;31mRunning cells with 'Python 3.13.1' requires the ipykernel package.\n",
      "\u001b[1;31mRun the following command to install 'ipykernel' into the Python environment. \n",
      "\u001b[1;31mCommand: '/usr/local/bin/python3 -m pip install ipykernel -U --user --force-reinstall'"
     ]
    }
   ],
   "source": [
    "from src import utils"
   ]
  },
  {
   "cell_type": "code",
   "execution_count": null,
   "metadata": {},
   "outputs": [],
   "source": [
    "FNAME = 'data/raw/credit_risk_dataset.csv'\n",
    "data = utils.load_data(FNAME)\n",
    "data.head()"
   ]
  },
  {
   "cell_type": "code",
   "execution_count": null,
   "metadata": {},
   "outputs": [],
   "source": [
    "TARGET_COL = 'loan_status'\n",
    "X, y = utils.split_input_output(data, TARGET_COL)"
   ]
  },
  {
   "cell_type": "code",
   "execution_count": null,
   "metadata": {},
   "outputs": [],
   "source": [
    "#Panggil fungsi split_train_test pertama kali\n",
    "X_train, X_non_train, y_train, y_not_train = utils.split_train_test(X, y, test_size=0.2, random_state=42)\n",
    "\n",
    "#Panggil fungsi split_train_test kedua kali\n",
    "X_valid, X_test, y_valid, y_test = utils.split_train_test(X_non_train, y_not_train, test_size=0.5, random_state=42)\n"
   ]
  },
  {
   "cell_type": "code",
   "execution_count": null,
   "metadata": {},
   "outputs": [],
   "source": [
    "#Panggil fungsi serialize_data untuk setiap dataset\n",
    "utils.serialize_data(X_train, \"data/interim/X_train.pkl\")\n",
    "utils.serialize_data(y_train, \"data/interim/y_train.pkl\")\n",
    "utils.serialize_data(X_test, \"data/interim/X_test.pkl\")\n",
    "utils.serialize_data(y_test, \"data/interim/y_test.pkl\")\n",
    "utils.serialize_data(X_valid, \"data/interim/X_valid.pkl\")\n",
    "utils.serialize_data(y_valid, \"data/interim/y_valid.pkl\")"
   ]
  }
 ],
 "metadata": {
  "kernelspec": {
   "display_name": "Python 3",
   "language": "python",
   "name": "python3"
  },
  "language_info": {
   "codemirror_mode": {
    "name": "ipython",
    "version": 3
   },
   "file_extension": ".py",
   "mimetype": "text/x-python",
   "name": "python",
   "nbconvert_exporter": "python",
   "pygments_lexer": "ipython3",
   "version": "3.13.1"
  }
 },
 "nbformat": 4,
 "nbformat_minor": 2
}
