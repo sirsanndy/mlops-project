{
 "cells": [
  {
   "cell_type": "code",
   "execution_count": 33,
   "metadata": {},
   "outputs": [],
   "source": [
    "from src.utils import deserialize_data, serialize_data\n",
    "from imblearn.over_sampling import SMOTE\n",
    "import seaborn as sns\n",
    "import pandas as pd"
   ]
  },
  {
   "cell_type": "code",
   "execution_count": 34,
   "metadata": {},
   "outputs": [
    {
     "name": "stdout",
     "output_type": "stream",
     "text": [
      "Data deserialized from data/processed/X_train_prep.pkl\n",
      "Data deserialized from data/processed/y_train_prep.pkl\n",
      "<class 'pandas.core.frame.DataFrame'>\n",
      "Index: 109190 entries, 134930 to 44947\n",
      "Data columns (total 1 columns):\n",
      " #   Column        Non-Null Count   Dtype  \n",
      "---  ------        --------------   -----  \n",
      " 0   RainTomorrow  109190 non-null  float64\n",
      "dtypes: float64(1)\n",
      "memory usage: 1.7 MB\n",
      "<class 'pandas.core.frame.DataFrame'>\n",
      "Index: 109190 entries, 134930 to 44947\n",
      "Data columns (total 21 columns):\n",
      " #   Column         Non-Null Count   Dtype  \n",
      "---  ------         --------------   -----  \n",
      " 0   Location       109190 non-null  int64  \n",
      " 1   MinTemp        109190 non-null  float64\n",
      " 2   MaxTemp        109190 non-null  float64\n",
      " 3   Rainfall       109190 non-null  float64\n",
      " 4   Evaporation    109190 non-null  float64\n",
      " 5   Sunshine       109190 non-null  float64\n",
      " 6   WindGustDir    109190 non-null  int64  \n",
      " 7   WindGustSpeed  109190 non-null  float64\n",
      " 8   WindDir9am     109190 non-null  int64  \n",
      " 9   WindDir3pm     109190 non-null  int64  \n",
      " 10  WindSpeed9am   109190 non-null  float64\n",
      " 11  WindSpeed3pm   109190 non-null  float64\n",
      " 12  Humidity9am    109190 non-null  float64\n",
      " 13  Humidity3pm    109190 non-null  float64\n",
      " 14  Pressure9am    109190 non-null  float64\n",
      " 15  Pressure3pm    109190 non-null  float64\n",
      " 16  Cloud9am       109190 non-null  float64\n",
      " 17  Cloud3pm       109190 non-null  float64\n",
      " 18  Temp9am        109190 non-null  float64\n",
      " 19  Temp3pm        109190 non-null  float64\n",
      " 20  RainToday      109190 non-null  float64\n",
      "dtypes: float64(17), int64(4)\n",
      "memory usage: 18.3 MB\n",
      "Data serialized to data/processed/X_train_ros.pkl\n",
      "Data serialized to data/processed/y_train_ros.pkl\n"
     ]
    },
    {
     "data": {
      "image/png": "[encoded data removed]",
      "text/plain": [
       "<Figure size 640x480 with 1 Axes>"
      ]
     },
     "metadata": {},
     "output_type": "display_data"
    }
   ],
   "source": [
    "# Load preprocessed train set data\n",
    "X_train_prep = deserialize_data('data/processed/X_train_prep.pkl')\n",
    "y_train_prep = deserialize_data('data/processed/y_train_prep.pkl')\n",
    "y_train_prep.info()\n",
    "X_train_prep.info()\n",
    "\n",
    "\n",
    "# Create an instance of RandomOverSampler\n",
    "ros = SMOTE()\n",
    "# Plot label condition before oversampling\n",
    "sns.countplot(data=pd.DataFrame(y_train_prep, columns=['RainTomorrow']), x='RainTomorrow', hue='RainTomorrow')\n",
    "# # Perform oversampling\n",
    "X_train_ros, y_train_ros = ros.fit_resample(X_train_prep, y_train_prep)\n",
    "\n",
    "# # Plot label condition after oversampling\n",
    "sns.countplot(data=pd.DataFrame(y_train_ros, columns=['RainTomorrow']), x='RainTomorrow', hue='RainTomorrow')\n",
    "\n",
    "# # Serialize the train set after resampling\n",
    "serialize_data(X_train_ros, 'data/processed/X_train_ros.pkl')\n",
    "serialize_data(y_train_ros, 'data/processed/y_train_ros.pkl')\n"
   ]
  },
  {
   "cell_type": "code",
   "execution_count": 35,
   "metadata": {},
   "outputs": [
    {
     "data": {
      "text/html": [
       "<div>\n",
       "<style scoped>\n",
       "    .dataframe tbody tr th:only-of-type {\n",
       "        vertical-align: middle;\n",
       "    }\n",
       "\n",
       "    .dataframe tbody tr th {\n",
       "        vertical-align: top;\n",
       "    }\n",
       "\n",
       "    .dataframe thead th {\n",
       "        text-align: right;\n",
       "    }\n",
       "</style>\n",
       "<table border=\"1\" class=\"dataframe\">\n",
       "  <thead>\n",
       "    <tr style=\"text-align: right;\">\n",
       "      <th></th>\n",
       "      <th>RainTomorrow</th>\n",
       "    </tr>\n",
       "  </thead>\n",
       "  <tbody>\n",
       "    <tr>\n",
       "      <th>134930</th>\n",
       "      <td>0.0</td>\n",
       "    </tr>\n",
       "    <tr>\n",
       "      <th>12967</th>\n",
       "      <td>0.0</td>\n",
       "    </tr>\n",
       "    <tr>\n",
       "      <th>16760</th>\n",
       "      <td>0.0</td>\n",
       "    </tr>\n",
       "    <tr>\n",
       "      <th>109172</th>\n",
       "      <td>0.0</td>\n",
       "    </tr>\n",
       "    <tr>\n",
       "      <th>114657</th>\n",
       "      <td>0.0</td>\n",
       "    </tr>\n",
       "  </tbody>\n",
       "</table>\n",
       "</div>"
      ],
      "text/plain": [
       "        RainTomorrow\n",
       "134930           0.0\n",
       "12967            0.0\n",
       "16760            0.0\n",
       "109172           0.0\n",
       "114657           0.0"
      ]
     },
     "execution_count": 35,
     "metadata": {},
     "output_type": "execute_result"
    }
   ],
   "source": [
    "y_train_prep.head()"
   ]
  }
 ],
 "metadata": {
  "kernelspec": {
   "display_name": "MSANDY_VENV",
   "language": "python",
   "name": "python3"
  },
  "language_info": {
   "codemirror_mode": {
    "name": "ipython",
    "version": 3
   },
   "file_extension": ".py",
   "mimetype": "text/x-python",
   "name": "python",
   "nbconvert_exporter": "python",
   "pygments_lexer": "ipython3",
   "version": "3.12.3"
  }
 },
 "nbformat": 4,
 "nbformat_minor": 2
}
